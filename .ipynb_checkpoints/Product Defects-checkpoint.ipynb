{
 "cells": [
  {
   "cell_type": "markdown",
   "id": "e92b81e7",
   "metadata": {},
   "source": [
    "# Product Defects"
   ]
  },
  {
   "cell_type": "markdown",
   "id": "452df74f",
   "metadata": {},
   "source": [
    "You are in charge of monitoring the number of products from a specific factory. You've been told that the number of defects on a given day follows the Poisson distribution with the rate parameter (lambda) equal to 7. You're new here, so you want to get a feel for what it means to follow the Poisson(7) distribution. You remember that the Poisson distribution is special because the rate parameter represents the expected value of the distribution, so in this case, the expected value of the Poisson(7) distribution is 7 defects per day.\n",
    "\n",
    "You will investigate certain attributes of the Poisson(7) distribution to get an intuition for how many defective objects you should expect to see in a given amount of time. You will also practice and apply what you know about the Poisson distribution on a practice data set that you will simulate yourself."
   ]
  },
  {
   "cell_type": "markdown",
   "id": "d932cbdb",
   "metadata": {},
   "source": [
    "## Distribution in Theory"
   ]
  },
  {
   "cell_type": "markdown",
   "id": "50699968",
   "metadata": {},
   "source": [
    "1. Create a variable called `lam` that represents the rate parameter of our distribution."
   ]
  },
  {
   "cell_type": "code",
   "execution_count": 1,
   "id": "f2934b76",
   "metadata": {},
   "outputs": [],
   "source": [
    "import scipy.stats as stats\n",
    "import numpy as np\n",
    "\n",
    "## Task 1:\n",
    "lam = 7"
   ]
  },
  {
   "cell_type": "markdown",
   "id": "0e5e3766",
   "metadata": {},
   "source": [
    "2. You know that the rate parameter of a Poisson distribution is equal to the expected value. So in our factory, the rate parameter would equal the expected number of defects on a given day. You are curious about how often we might observe the exact expected number of defects.\n",
    "\n",
    "   Calculate and print the probability of observing exactly `lam` defects on a given day."
   ]
  },
  {
   "cell_type": "code",
   "execution_count": 3,
   "id": "8f066f8c",
   "metadata": {},
   "outputs": [
    {
     "name": "stdout",
     "output_type": "stream",
     "text": [
      "The probability of observing 7 defects on a given day is 14.9%.\n"
     ]
    }
   ],
   "source": [
    "## Task 2:\n",
    "prob_lam = stats.poisson.pmf(7, lam)\n",
    "print('The probability of observing 7 defects on a given day is {:.1f}%.'.format(prob_lam * 100))"
   ]
  },
  {
   "cell_type": "markdown",
   "id": "3ec4873d",
   "metadata": {},
   "source": [
    "3. Our boss said that having 4 or fewer defects on a given day is an exceptionally good day. You are curious about how often that might happen.\n",
    "\n",
    "   Calculate and print the probability of having one of those days."
   ]
  },
  {
   "cell_type": "code",
   "execution_count": 4,
   "id": "90a31b09",
   "metadata": {},
   "outputs": [
    {
     "name": "stdout",
     "output_type": "stream",
     "text": [
      "The probability of observing 4 or fewer defects in a given day is 17.3%.\n"
     ]
    }
   ],
   "source": [
    "## Task 3:\n",
    "prob_num_defects_less_4 = stats.poisson.cdf(4, 7)\n",
    "print('The probability of observing 4 or fewer defects in a given day is {:.1f}%.'.format(prob_num_defects_less_4 * 100))"
   ]
  },
  {
   "cell_type": "markdown",
   "id": "d7e544ee",
   "metadata": {},
   "source": [
    "4. On the other hand, our boss said that having more than 9 defects on a given day is considered a bad day.\n",
    "\n",
    "   Calculate and print the probability of having one of these bad days."
   ]
  },
  {
   "cell_type": "code",
   "execution_count": 5,
   "id": "5e2eeb71",
   "metadata": {},
   "outputs": [
    {
     "name": "stdout",
     "output_type": "stream",
     "text": [
      "The probability of observing greater than 9 defects in a given day is 17.0%.\n"
     ]
    }
   ],
   "source": [
    "## Task 4:\n",
    "prop_num_defects_greater_9 = 1 - stats.poisson.cdf(9, 7)\n",
    "print('The probability of observing greater than 9 defects in a given day is {:.1f}%.'.format(prop_num_defects_greater_9 * 100))"
   ]
  },
  {
   "cell_type": "markdown",
   "id": "08952df6",
   "metadata": {},
   "source": [
    "## Distribution in Practice"
   ]
  },
  {
   "cell_type": "markdown",
   "id": "932edc5b",
   "metadata": {},
   "source": [
    "5. You've familiarized yourself a little bit about how the Poisson distribution works in theory by calculating different probabilities. But let's look at what this might look like in practice.\n",
    "\n",
    "   Create a variable called `year_defects` that has 365 random values from the Poisson distribution."
   ]
  },
  {
   "cell_type": "code",
   "execution_count": 6,
   "id": "fe955737",
   "metadata": {},
   "outputs": [],
   "source": [
    "## Task 5:\n",
    "year_defects = stats.poisson.rvs(7, size = 365)"
   ]
  },
  {
   "cell_type": "markdown",
   "id": "8a78e82b",
   "metadata": {},
   "source": [
    "6. Let's take a look at our new dataset. Print the first 20 values in this dataset."
   ]
  },
  {
   "cell_type": "code",
   "execution_count": 7,
   "id": "cd72e6f1",
   "metadata": {},
   "outputs": [
    {
     "name": "stdout",
     "output_type": "stream",
     "text": [
      "[ 8  5  5  9  4  9 10  3  7  4  7  9  4  4  7  7  9  4 10  2]\n"
     ]
    }
   ],
   "source": [
    "## Task 6:\n",
    "print(year_defects[:20])"
   ]
  },
  {
   "cell_type": "markdown",
   "id": "1e91a41b",
   "metadata": {},
   "source": [
    "7. If we expect 7 defects on a given day, what is the total number of defects we would expect over 365 days?\n",
    "\n",
    "   Calculate and print this value to the output terminal."
   ]
  },
  {
   "cell_type": "code",
   "execution_count": 8,
   "id": "d16d1020",
   "metadata": {},
   "outputs": [
    {
     "name": "stdout",
     "output_type": "stream",
     "text": [
      "In a year, we would expect 2555 defects with a rate of 7 defects per day.\n"
     ]
    }
   ],
   "source": [
    "## Task 7:\n",
    "yearly_defects_expected = 365 * 7\n",
    "print(\"In a year, we would expect {} defects with a rate of 7 defects per day.\".format(yearly_defects_expected))"
   ]
  },
  {
   "cell_type": "markdown",
   "id": "b2f2fae3",
   "metadata": {},
   "source": [
    "8. Calculate and print the total sum of the dataset `year_defects`. How does this compare to the total number of defects we expected over 365 days?"
   ]
  },
  {
   "cell_type": "code",
   "execution_count": 9,
   "id": "3a6e54de",
   "metadata": {},
   "outputs": [
    {
     "name": "stdout",
     "output_type": "stream",
     "text": [
      "We observed 2527 in a year.\n"
     ]
    }
   ],
   "source": [
    "## Task 8:\n",
    "yearly_defects_total = year_defects.sum()\n",
    "print('We observed {} in a year.'.format(yearly_defects_total))"
   ]
  },
  {
   "cell_type": "markdown",
   "id": "16b13ed9",
   "metadata": {},
   "source": [
    "9. Calculate and print the average number of defects per day from our simulated dataset.\n",
    "\n",
    "   How does this compare to the expected average number of defects each day that we know from the given rate parameter of the Poisson distribution?"
   ]
  },
  {
   "cell_type": "code",
   "execution_count": 10,
   "id": "6c082a31",
   "metadata": {},
   "outputs": [
    {
     "name": "stdout",
     "output_type": "stream",
     "text": [
      "In practice, we see 6.9 defects per day.\n"
     ]
    }
   ],
   "source": [
    "## Task 9:\n",
    "avg_defects_year = year_defects.mean()\n",
    "print('In practice, we see {:.1f} defects per day.'.format(avg_defects_year))"
   ]
  },
  {
   "cell_type": "markdown",
   "id": "3dee364a",
   "metadata": {},
   "source": [
    "10. You're worried about what the highest amount of defects in a single day might be because that would be a hectic day.\n",
    "\n",
    "    Print the maximum value of `year_defects`."
   ]
  },
  {
   "cell_type": "code",
   "execution_count": 11,
   "id": "b1ffd712",
   "metadata": {},
   "outputs": [
    {
     "name": "stdout",
     "output_type": "stream",
     "text": [
      "The largest number of defects in a given day was 15.\n"
     ]
    }
   ],
   "source": [
    "## Task 10:\n",
    "defects_max = year_defects.max()\n",
    "print('The largest number of defects in a given day was {}.'.format(defects_max))"
   ]
  },
  {
   "cell_type": "markdown",
   "id": "b1f23002",
   "metadata": {},
   "source": [
    "11. Wow, it would probably be super busy if there were that many defects on a single day. Hopefully, it is a rare event!\n",
    "\n",
    "    Calculate and print the probability of observing that maximum value or more from the Poisson(7) distribution."
   ]
  },
  {
   "cell_type": "code",
   "execution_count": 12,
   "id": "7a159a05",
   "metadata": {},
   "outputs": [
    {
     "name": "stdout",
     "output_type": "stream",
     "text": [
      "The probability of observing greater than 15 defects in a day is 0.24%\n"
     ]
    }
   ],
   "source": [
    "## Task 11:\n",
    "prob_of_max_or_more = 1 - stats.poisson.cdf(defects_max, 7)\n",
    "print(\"The probability of observing greater than {max} defects in a day is {prob:.2f}%\". format(max = defects_max,\n",
    "                                                                                                prob = prob_of_max_or_more * 100))"
   ]
  },
  {
   "cell_type": "markdown",
   "id": "0e586bc7",
   "metadata": {},
   "source": [
    "## Extra"
   ]
  },
  {
   "cell_type": "markdown",
   "id": "27fe7db9",
   "metadata": {},
   "source": [
    "12. Congratulations! At this point, you have now explored the Poisson distribution and even worked with some simulated data. We have a couple of extra tasks if you would like an extra challenge. Feel free to try them out or move onto the next topic!\n",
    "\n",
    "    Let's say we want to know how many defects in a given day would put us in the 90th percentile of the Poisson(7) distribution. One way we could calculate this is by using the following method:\n",
    "    \n",
    "    ```py\n",
    "    stats.poisson.ppf(percentile, lambda)\n",
    "    ```\n",
    "    \n",
    "    `percentile` is equal to the desired percentile (a decimal between 0 and 1), and `lambda` is the lambda parameter of the Poisson distribution. This function is essentially the inverse of the CDF.\n",
    "    \n",
    "    Use this method to calculate and print the number of defects that would put us in the 90th percentile for a given day. In other words, on 90% of days, we will observe fewer defects than this number."
   ]
  },
  {
   "cell_type": "code",
   "execution_count": 13,
   "id": "2f90f5c2",
   "metadata": {},
   "outputs": [
    {
     "name": "stdout",
     "output_type": "stream",
     "text": [
      "We observe less than 10.0 defects on 90% of the day.\n"
     ]
    }
   ],
   "source": [
    "## Task 12:\n",
    "defects_ninety_p = stats.poisson.ppf(.9, 7)\n",
    "print('We observe less than {defects} defects on 90% of the day.'.format(defects = defects_ninety_p))"
   ]
  },
  {
   "cell_type": "markdown",
   "id": "0786d6bd",
   "metadata": {},
   "source": [
    "13. Now let's see what proportion of our simulated dataset `year_defects` is greater than or equal to the number we calculated in the previous step.\n",
    "\n",
    "    By definition of a percentile, we would expect 1 - .90, or about 10% of days to be in this range.\n",
    "    \n",
    "    To calculate this:\n",
    "    \n",
    "     1) Count the number of values in the dataset that are greater than or equal to the 90th percentile value.\n",
    "     \n",
    "     2) Divide this number by the length of the dataset."
   ]
  },
  {
   "cell_type": "code",
   "execution_count": 14,
   "id": "3946a271",
   "metadata": {},
   "outputs": [
    {
     "name": "stdout",
     "output_type": "stream",
     "text": [
      "41 365\n",
      "We observed greater then 10.0 in 11.2% of the days. We expected to see this result in 10% of the days.\n"
     ]
    }
   ],
   "source": [
    "## Task 13:\n",
    "num_greater_then_ninety_p = len([defects for defects in year_defects if defects > 10])\n",
    "print(num_greater_then_ninety_p, len(year_defects))\n",
    "prop_greater_then_ninety_p = float(num_greater_then_ninety_p) / len(year_defects)\n",
    "\n",
    "print('We observed greater then {defects_ninety_p} in {prop:.1f}% of the days. We expected to see this result in 10% of the days.'.format(defects_ninety_p = defects_ninety_p, prop = prop_greater_then_ninety_p * 100))"
   ]
  },
  {
   "cell_type": "code",
   "execution_count": null,
   "id": "d5f0ffa9",
   "metadata": {},
   "outputs": [],
   "source": []
  }
 ],
 "metadata": {
  "kernelspec": {
   "display_name": "Python 3",
   "language": "python",
   "name": "python3"
  },
  "language_info": {
   "codemirror_mode": {
    "name": "ipython",
    "version": 3
   },
   "file_extension": ".py",
   "mimetype": "text/x-python",
   "name": "python",
   "nbconvert_exporter": "python",
   "pygments_lexer": "ipython3",
   "version": "3.7.6"
  }
 },
 "nbformat": 4,
 "nbformat_minor": 5
}
